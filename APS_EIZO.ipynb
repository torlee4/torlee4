{
  "nbformat": 4,
  "nbformat_minor": 0,
  "metadata": {
    "colab": {
      "provenance": [],
      "authorship_tag": "ABX9TyPgZ06CqUPqy4NdPbQkUSSl",
      "include_colab_link": true
    },
    "kernelspec": {
      "name": "python3",
      "display_name": "Python 3"
    },
    "language_info": {
      "name": "python"
    }
  },
  "cells": [
    {
      "cell_type": "markdown",
      "metadata": {
        "id": "view-in-github",
        "colab_type": "text"
      },
      "source": [
        "<a href=\"https://colab.research.google.com/github/torlee4/torlee4/blob/main/APS_EIZO.ipynb\" target=\"_parent\"><img src=\"https://colab.research.google.com/assets/colab-badge.svg\" alt=\"Open In Colab\"/></a>"
      ]
    },
    {
      "cell_type": "code",
      "execution_count": 1,
      "metadata": {
        "colab": {
          "base_uri": "https://localhost:8080/"
        },
        "id": "5yZ2bv4jYZZD",
        "outputId": "3fc9c5df-27f2-4e62-c9ad-b9d6e66f904b"
      },
      "outputs": [
        {
          "output_type": "stream",
          "name": "stdout",
          "text": [
            "Digite o salário atual do funcionário: 1000\n",
            "O novo salário com reajuste de 35% é: R$ 1350.00\n"
          ]
        }
      ],
      "source": [
        "#Escreva um programa que receba o salário de um funcionário (float), e retorne o resultado do novo salário com reajuste de 35%\n",
        "\n",
        "# Solicita o salário do funcionário\n",
        "salario_atual = float(input(\"Digite o salário atual do funcionário: \"))\n",
        "\n",
        "# Calcula o novo salário com o reajuste de 35%\n",
        "reajuste = salario_atual * 0.35\n",
        "novo_salario = salario_atual + reajuste\n",
        "\n",
        "# Exibe o resultado do novo salário\n",
        "print(f\"O novo salário com reajuste de 35% é: R$ {novo_salario:.2f}\")"
      ]
    }
  ]
}